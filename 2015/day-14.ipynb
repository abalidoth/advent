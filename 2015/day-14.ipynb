{
 "cells": [
  {
   "cell_type": "code",
   "execution_count": 1,
   "metadata": {},
   "outputs": [
    {
     "name": "stdout",
     "output_type": "stream",
     "text": [
      "Dancer can fly 27 km/s for 5 seconds, but then must rest for 132 seconds.\n",
      "Cupid can fly 22 km/s for 2 seconds, but then must rest for 41 seconds.\n",
      "Rudolph can fly 11 km/s for 5 seconds, but then must rest for 48 seconds.\n",
      "Donner can fly 28 km/s for 5 seconds, but then must rest for 134 seconds.\n",
      "Dasher can fly 4 km/s for 16 seconds, but then must rest for 55 seconds.\n"
     ]
    }
   ],
   "source": [
    "from aoc_utils import *\n",
    "data = get_data(year=2015, day=14)\n",
    "\n",
    "for i in data.split(\"\\n\")[:5]:\n",
    "    print(i)"
   ]
  },
  {
   "cell_type": "code",
   "execution_count": 2,
   "metadata": {},
   "outputs": [],
   "source": [
    "inst = \"\"\"\n",
    "rein: %name:w can fly %speed:n km/s for %stam:n seconds, but then must rest for %rest:n seconds.\n",
    "\"\"\"\n",
    "P=InstructionParser(inst)\n",
    "objs=P.match_block(data.lower())"
   ]
  },
  {
   "cell_type": "code",
   "execution_count": 20,
   "metadata": {},
   "outputs": [],
   "source": [
    "class Reindeer:\n",
    "    def __init__(self, o):\n",
    "        self.o = o\n",
    "        self.score = 0\n",
    "        self.dist = 0\n",
    "        self.resting = False\n",
    "        self.gotimer, self.resttimer = o.stam, 0\n",
    "    def inc(self):\n",
    "        if self.resting and self.resttimer == 0:\n",
    "            self.resting = False\n",
    "            self.gotimer = self.o.stam\n",
    "        elif not self.resting and self.gotimer == 0:\n",
    "            self.resting = True\n",
    "            self.resttimer = self.o.rest\n",
    "        if self.resting:\n",
    "            self.resttimer -= 1\n",
    "        else:\n",
    "            self.gotimer -= 1\n",
    "            self.dist += self.o.speed\n",
    "        "
   ]
  },
  {
   "cell_type": "code",
   "execution_count": 16,
   "metadata": {},
   "outputs": [],
   "source": [
    "data2 = \"\"\"Comet can fly 14 km/s for 10 seconds, but then must rest for 127 seconds.\n",
    "Dancer can fly 16 km/s for 11 seconds, but then must rest for 162 seconds.\"\"\"\n",
    "obj2=P.match_block(data2.lower())"
   ]
  },
  {
   "cell_type": "code",
   "execution_count": 19,
   "metadata": {},
   "outputs": [
    {
     "name": "stdout",
     "output_type": "stream",
     "text": [
      "dancer 2565\n",
      "cupid 2596\n",
      "rudolph 2640\n",
      "donner 2548\n",
      "dasher 2304\n",
      "blitzen 2590\n",
      "prancer 2589\n",
      "comet 2484\n",
      "vixen 2610\n"
     ]
    }
   ],
   "source": [
    "reindeer = [Reindeer(o) for o in objs]\n",
    "for i in range(2503):\n",
    "    for r in reindeer:\n",
    "        r.inc()\n",
    "for r in reindeer:\n",
    "    print(r.o.name, r.dist)"
   ]
  },
  {
   "cell_type": "code",
   "execution_count": 22,
   "metadata": {},
   "outputs": [
    {
     "name": "stdout",
     "output_type": "stream",
     "text": [
      "dancer 164\n",
      "cupid 46\n",
      "rudolph 647\n",
      "donner 1102\n",
      "dasher 0\n",
      "blitzen 6\n",
      "prancer 176\n",
      "comet 213\n",
      "vixen 360\n"
     ]
    }
   ],
   "source": [
    "reindeer = [Reindeer(o) for o in objs]\n",
    "for i in range(2503):\n",
    "    for r in reindeer:\n",
    "        r.inc()\n",
    "    m = max(r.dist for r in reindeer)\n",
    "    for r in reindeer:\n",
    "        if r.dist == m:\n",
    "            r.score += 1\n",
    "for r in reindeer:\n",
    "    print(r.o.name, r.score)"
   ]
  },
  {
   "cell_type": "code",
   "execution_count": null,
   "metadata": {},
   "outputs": [],
   "source": []
  }
 ],
 "metadata": {
  "kernelspec": {
   "display_name": "Python 3",
   "language": "python",
   "name": "python3"
  },
  "language_info": {
   "codemirror_mode": {
    "name": "ipython",
    "version": 3
   },
   "file_extension": ".py",
   "mimetype": "text/x-python",
   "name": "python",
   "nbconvert_exporter": "python",
   "pygments_lexer": "ipython3",
   "version": "3.8.3"
  }
 },
 "nbformat": 4,
 "nbformat_minor": 4
}
