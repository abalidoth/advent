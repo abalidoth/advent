{
 "cells": [
  {
   "cell_type": "code",
   "execution_count": 1,
   "metadata": {},
   "outputs": [],
   "source": [
    "from aoc_utils import *\n",
    "from aocd import get_data\n",
    "data  = get_data(year=2015,day=6)"
   ]
  },
  {
   "cell_type": "code",
   "execution_count": 7,
   "metadata": {},
   "outputs": [
    {
     "data": {
      "text/plain": [
       "'turn on 887,9 through 959,629'"
      ]
     },
     "execution_count": 7,
     "metadata": {},
     "output_type": "execute_result"
    }
   ],
   "source": [
    "lines = data.split(\"\\n\")\n",
    "lines[0]"
   ]
  },
  {
   "cell_type": "code",
   "execution_count": 35,
   "metadata": {},
   "outputs": [],
   "source": [
    "def parse_inst(s):\n",
    "    l = s.split(\" \")\n",
    "    if l[0] == \"toggle\":\n",
    "        how = -1\n",
    "        bc = np.array(l[1].split(\",\"), dtype=int)\n",
    "        tc = np.array(l[3].split(\",\"), dtype=int)+1\n",
    "    elif l[1]==\"on\":\n",
    "        how = 1\n",
    "        bc = np.array(l[2].split(\",\"), dtype=int)\n",
    "        tc = np.array(l[4].split(\",\"), dtype=int)+1\n",
    "    else:\n",
    "        how = 0\n",
    "        bc = np.array(l[2].split(\",\"), dtype=int)\n",
    "        tc = np.array(l[4].split(\",\"), dtype=int)+1\n",
    "    return how, bc, tc"
   ]
  },
  {
   "cell_type": "code",
   "execution_count": 36,
   "metadata": {},
   "outputs": [
    {
     "name": "stdout",
     "output_type": "stream",
     "text": [
      "(1, array([887,   9]), array([960, 630]))\n",
      "(1, array([454, 398]), array([845, 449]))\n",
      "(0, array([539, 243]), array([560, 966]))\n",
      "(0, array([370, 819]), array([677, 869]))\n",
      "(0, array([145,  40]), array([371, 998]))\n",
      "(0, array([301,   3]), array([809, 454]))\n",
      "(1, array([351, 678]), array([952, 909]))\n",
      "(-1, array([720, 196]), array([898, 995]))\n",
      "(-1, array([831, 394]), array([905, 861]))\n",
      "(-1, array([753, 664]), array([971, 927]))\n"
     ]
    }
   ],
   "source": [
    "for i in lines[:10]:\n",
    "    print(parse_inst(i))"
   ]
  },
  {
   "cell_type": "code",
   "execution_count": 37,
   "metadata": {},
   "outputs": [],
   "source": [
    "field = np.zeros([1000,1000])\n",
    "for i in lines:\n",
    "    how, (x1,y1), (x2,y2) = parse_inst(i)\n",
    "    if how == -1:\n",
    "        field[x1:x2,y1:y2] = 1-field[x1:x2,y1:y2]\n",
    "    else:\n",
    "        field[x1:x2, y1:y2] = how\n",
    "    "
   ]
  },
  {
   "cell_type": "code",
   "execution_count": 38,
   "metadata": {},
   "outputs": [
    {
     "data": {
      "text/plain": [
       "377891.0"
      ]
     },
     "execution_count": 38,
     "metadata": {},
     "output_type": "execute_result"
    }
   ],
   "source": [
    "field.sum()"
   ]
  },
  {
   "cell_type": "code",
   "execution_count": 34,
   "metadata": {},
   "outputs": [
    {
     "name": "stdout",
     "output_type": "stream",
     "text": [
      "['turn', 'on', '0,0', 'through', '999,999']\n",
      "1 0 0 1 1\n"
     ]
    },
    {
     "data": {
      "text/plain": [
       "1.0"
      ]
     },
     "execution_count": 34,
     "metadata": {},
     "output_type": "execute_result"
    }
   ],
   "source": [
    "field = np.zeros([1000,1000])\n",
    "for i in [\"turn on 0,0 through 999,999\"]:\n",
    "    how, (x1,y1), (x2,y2) = parse_inst(i)\n",
    "    print(how, x1, y1, x2, y2)\n",
    "    if how == -1:\n",
    "        print(field[x1:x2, y1:y2])\n",
    "        field[x1:x2,y1:y2] = 1-field[x1:x2,y1:y2]\n",
    "    else:\n",
    "        field[x1:x2, y1:y2] = how\n",
    "field.sum()"
   ]
  },
  {
   "cell_type": "code",
   "execution_count": 31,
   "metadata": {},
   "outputs": [
    {
     "name": "stdout",
     "output_type": "stream",
     "text": [
      "['turn', 'on', '0,0', 'through', '999,999']\n"
     ]
    },
    {
     "data": {
      "text/plain": [
       "('turn on 0,0 through 999,999', (1, array([0, 0]), array([1, 1])))"
      ]
     },
     "execution_count": 31,
     "metadata": {},
     "output_type": "execute_result"
    }
   ],
   "source": [
    "\"turn on 0,0 through 999,999\", parse_inst(\"turn on 0,0 through 999,999\")"
   ]
  },
  {
   "cell_type": "code",
   "execution_count": 33,
   "metadata": {},
   "outputs": [
    {
     "data": {
      "text/plain": [
       "array([999, 999])"
      ]
     },
     "execution_count": 33,
     "metadata": {},
     "output_type": "execute_result"
    }
   ],
   "source": [
    "np.array(\"999,999\".split(\",\"), dtype=int)"
   ]
  },
  {
   "cell_type": "code",
   "execution_count": 39,
   "metadata": {},
   "outputs": [
    {
     "data": {
      "text/plain": [
       "14110788.0"
      ]
     },
     "execution_count": 39,
     "metadata": {},
     "output_type": "execute_result"
    }
   ],
   "source": [
    "field = np.zeros([1000,1000])\n",
    "for i in lines:\n",
    "    how, (x1,y1), (x2,y2) = parse_inst(i)\n",
    "    if how == -1:\n",
    "        field[x1:x2,y1:y2] = field[x1:x2,y1:y2]+2\n",
    "    elif how == 1:\n",
    "        field[x1:x2, y1:y2] = field[x1:x2,y1:y2]+1\n",
    "    else:\n",
    "        field[x1:x2,y1:y2] = np.maximum(0,field[x1:x2,y1:y2]-1)\n",
    "        \n",
    "field.sum()\n",
    "    "
   ]
  },
  {
   "cell_type": "code",
   "execution_count": null,
   "metadata": {},
   "outputs": [],
   "source": []
  }
 ],
 "metadata": {
  "kernelspec": {
   "display_name": "Python 3",
   "language": "python",
   "name": "python3"
  },
  "language_info": {
   "codemirror_mode": {
    "name": "ipython",
    "version": 3
   },
   "file_extension": ".py",
   "mimetype": "text/x-python",
   "name": "python",
   "nbconvert_exporter": "python",
   "pygments_lexer": "ipython3",
   "version": "3.8.3"
  }
 },
 "nbformat": 4,
 "nbformat_minor": 4
}
