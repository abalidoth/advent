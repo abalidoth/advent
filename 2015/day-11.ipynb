{
 "cells": [
  {
   "cell_type": "code",
   "execution_count": 3,
   "metadata": {},
   "outputs": [
    {
     "name": "stdout",
     "output_type": "stream",
     "text": [
      "hepxcrrq\n"
     ]
    }
   ],
   "source": [
    "from aoc_utils import *\n",
    "from aocd import get_data\n",
    "data = get_data(year=2015, day=11)\n",
    "\n",
    "for i in data.split(\"\\n\")[:5]:\n",
    "    print(i)"
   ]
  },
  {
   "cell_type": "code",
   "execution_count": 4,
   "metadata": {},
   "outputs": [
    {
     "data": {
      "text/plain": [
       "97"
      ]
     },
     "execution_count": 4,
     "metadata": {},
     "output_type": "execute_result"
    }
   ],
   "source": [
    "ord(\"a\")"
   ]
  },
  {
   "cell_type": "code",
   "execution_count": 5,
   "metadata": {},
   "outputs": [],
   "source": [
    "def let2num(x):\n",
    "    return ord(x)-97\n",
    "def num2let(x):\n",
    "    return chr(x+97)"
   ]
  },
  {
   "cell_type": "code",
   "execution_count": null,
   "metadata": {},
   "outputs": [],
   "source": []
  },
  {
   "cell_type": "code",
   "execution_count": 6,
   "metadata": {},
   "outputs": [],
   "source": [
    "def increment(s):\n",
    "    for i in range(1,len(s)+1):\n",
    "        if s[-i] == 25:\n",
    "            s[-i] = 0\n",
    "        else:\n",
    "            s[-i]+=1\n",
    "            return s"
   ]
  },
  {
   "cell_type": "code",
   "execution_count": 7,
   "metadata": {},
   "outputs": [
    {
     "data": {
      "text/plain": [
       "['b', 'u', 't', 'u', 'a']"
      ]
     },
     "execution_count": 7,
     "metadata": {},
     "output_type": "execute_result"
    }
   ],
   "source": [
    "[num2let(j) for j in increment([let2num(i) for i in \"buttz\"])]"
   ]
  },
  {
   "cell_type": "code",
   "execution_count": 12,
   "metadata": {},
   "outputs": [
    {
     "name": "stdout",
     "output_type": "stream",
     "text": [
      "h e q a a b c c\n"
     ]
    }
   ],
   "source": [
    "d = [let2num(i) for i in \"hepxxyzz\"]\n",
    "while True:\n",
    "    d=increment(d)\n",
    "    for i in range(len(d)-2):\n",
    "        if d[i+2]-d[i+1] == 1 and d[i+1]-d[i]==1:\n",
    "            break\n",
    "    else:\n",
    "        continue\n",
    "    \n",
    "    if let2num(\"l\") in d or let2num(\"i\") in d or let2num(\"o\") in d:\n",
    "        continue\n",
    "        \n",
    "    pairs = [[d[i], d[i+1]] for i in range(len(d)-1)]\n",
    "    found = None\n",
    "    for i, (a,b) in enumerate(pairs):\n",
    "        if a==b and found==None:\n",
    "            found=i\n",
    "        elif a == b and found != i-1:\n",
    "            break\n",
    "    else:\n",
    "        continue\n",
    "    break\n",
    "print(*(num2let(i) for i in d))\n",
    "    \n",
    "            "
   ]
  },
  {
   "cell_type": "code",
   "execution_count": null,
   "metadata": {},
   "outputs": [],
   "source": []
  }
 ],
 "metadata": {
  "kernelspec": {
   "display_name": "Python 3",
   "language": "python",
   "name": "python3"
  },
  "language_info": {
   "codemirror_mode": {
    "name": "ipython",
    "version": 3
   },
   "file_extension": ".py",
   "mimetype": "text/x-python",
   "name": "python",
   "nbconvert_exporter": "python",
   "pygments_lexer": "ipython3",
   "version": "3.8.3"
  }
 },
 "nbformat": 4,
 "nbformat_minor": 4
}
