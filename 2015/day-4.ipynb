{
 "cells": [
  {
   "cell_type": "code",
   "execution_count": 1,
   "metadata": {},
   "outputs": [],
   "source": [
    "data = \"ckczppom\""
   ]
  },
  {
   "cell_type": "code",
   "execution_count": 8,
   "metadata": {},
   "outputs": [],
   "source": [
    "from hashlib import md5"
   ]
  },
  {
   "cell_type": "code",
   "execution_count": 12,
   "metadata": {},
   "outputs": [],
   "source": [
    "z=md5(bytes(\"1\"+data, \"ascii\"))"
   ]
  },
  {
   "cell_type": "code",
   "execution_count": 14,
   "metadata": {},
   "outputs": [
    {
     "data": {
      "text/plain": [
       "'714104b5840c8ead7621fa4c38b4cb4b'"
      ]
     },
     "execution_count": 14,
     "metadata": {},
     "output_type": "execute_result"
    }
   ],
   "source": [
    "z.hexdigest()"
   ]
  },
  {
   "cell_type": "code",
   "execution_count": 22,
   "metadata": {},
   "outputs": [
    {
     "name": "stderr",
     "output_type": "stream",
     "text": [
      "\n",
      "0it [00:00, ?it/s]\u001b[A"
     ]
    }
   ],
   "source": [
    "from tqdm import tqdm\n",
    "it = tqdm()"
   ]
  },
  {
   "cell_type": "code",
   "execution_count": 23,
   "metadata": {},
   "outputs": [
    {
     "name": "stderr",
     "output_type": "stream",
     "text": [
      "\n",
      "1it [00:00,  2.12it/s]\u001b[A\n",
      "589154301it [00:00,  3.02it/s]\u001b[A\n",
      "3222318781it [00:00,  4.32it/s]\u001b[A\n",
      "7962778306it [00:00,  6.17it/s]\u001b[A\n",
      "14226724221it [00:00,  8.82it/s]\u001b[A\n",
      "22246681645it [00:00, 12.59it/s]\u001b[A\n",
      "33074762610it [00:01, 17.99it/s]\u001b[A\n",
      "46990589766it [00:01, 25.70it/s]\u001b[A\n",
      "61577160711it [00:01, 36.72it/s]\u001b[A\n",
      "80211139128it [00:01, 52.46it/s]\u001b[A\n",
      "101512745236it [00:01, 74.94it/s]\u001b[A\n",
      "122270811816it [00:01, 107.05it/s]\u001b[A\n",
      "145427368395it [00:01, 152.93it/s]\u001b[A\n",
      "167685643828it [00:01, 218.48it/s]\u001b[A\n",
      "187578431250it [00:01, 312.11it/s]\u001b[A\n",
      "209514504150it [00:01, 445.87it/s]\u001b[A\n",
      "234582018490it [00:02, 636.95it/s]\u001b[A\n",
      "264612483981it [00:02, 909.93it/s]\u001b[A\n",
      "300394268065it [00:02, 1299.91it/s]\u001b[A\n",
      "337928726565it [00:02, 1857.01it/s]\u001b[A\n",
      "375640349230it [00:02, 2652.87it/s]\u001b[A\n",
      "417398718628it [00:02, 3789.82it/s]\u001b[A\n",
      "462478165131it [00:02, 5414.02it/s]\u001b[A\n",
      "503870963316it [00:02, 7734.32it/s]\u001b[A\n",
      "555168714675it [00:02, 11049.03it/s]\u001b[A\n",
      "605791708840it [00:02, 15784.32it/s]\u001b[A\n",
      "659980434960it [00:03, 22549.03it/s]\u001b[A\n",
      "714243751221it [00:03, 32212.91it/s]\u001b[A\n",
      "768605952246it [00:03, 46018.44it/s]\u001b[A\n",
      "821517797145it [00:03, 65740.62it/s]\u001b[A\n",
      "874120303155it [00:03, 93915.17it/s]\u001b[A\n",
      "935502023781it [00:03, 134164.51it/s]\u001b[A\n",
      "992266445745it [00:03, 191663.57it/s]\u001b[A\n",
      "1057446980778it [00:03, 273805.07it/s]\u001b[A\n",
      "1129926130840it [00:03, 391150.03it/s]\u001b[A\n",
      "1192495334311it [00:03, 558785.59it/s]\u001b[A\n",
      "1252927878555it [00:04, 798264.81it/s]\u001b[A\n",
      "1322342091876it [00:04, 1140377.74it/s]\u001b[A\n",
      "1395436309345it [00:04, 1629109.96it/s]\u001b[A\n",
      "1473173251278it [00:04, 2327297.86it/s]\u001b[A\n",
      "1552590716628it [00:04, 3324707.05it/s]\u001b[A\n",
      "1630340347980it [00:04, 4749572.79it/s]\u001b[A\n",
      "1707223995753it [00:04, 6785086.02it/s]\u001b[A\n",
      "1788126768351it [00:04, 9692945.20it/s]\u001b[A\n",
      "1864846865661it [00:04, 13846986.52it/s]\u001b[A\n",
      "1961068326141it [00:04, 19781287.31it/s]\u001b[A\n",
      "2057082591970it [00:05, 28258732.35it/s]\u001b[A\n",
      "2157914832153it [00:05, 40369132.78it/s]\u001b[A\n",
      "2260661960970it [00:05, 57669218.61it/s]\u001b[A\n",
      "2372348412028it [00:05, 82382774.93it/s]\u001b[A\n",
      "2483225351181it [00:05, 117685930.90it/s]\u001b[A\n",
      "2586109942626it [00:05, 168114277.71it/s]\u001b[A\n",
      "2688123399801it [00:05, 240143284.73it/s]\u001b[A\n",
      "2791316227420it [00:05, 343027623.29it/s]\u001b[A\n",
      "2899290996300it [00:05, 489972749.42it/s]\u001b[A\n",
      "3007921378281it [00:06, 699825788.09it/s]\u001b[A\n",
      "3111762797650it [00:06, 999433072.09it/s]\u001b[A\n",
      "3212725924128it [00:06, 1427027337.78it/s]\u001b[A\n",
      "3317175774226it [00:06, 2037417510.10it/s]\u001b[A\n",
      "3429288487716it [00:06, 2908331314.28it/s]\u001b[A\n",
      "3545538176778it [00:06, 4150309015.48it/s]\u001b[A\n",
      "3681718861395it [00:06, 5921278748.49it/s]\u001b[A\n",
      "3809552137128it [00:06, 8442210425.87it/s]\u001b[A\n",
      "3931237442055it [00:06, 12024547166.83it/s]\u001b[A\n",
      "4059530207106it [00:06, 17109197376.29it/s]\u001b[A\n",
      "4189940757003it [00:07, 24305050861.54it/s]\u001b[A\n",
      "4338166275141it [00:07, 34479198285.15it/s]\u001b[A\n",
      "4477035872280it [00:07, 48737387129.63it/s]\u001b[A\n",
      "4610990571606it [00:07, 68387684509.93it/s]\u001b[A\n",
      "4739398501995it [00:07, 95125823619.74it/s]\u001b[A\n",
      "4876032043035it [00:07, 131956724069.59it/s]\u001b[A\n",
      "5014794068628it [00:07, 181127546699.46it/s]\u001b[A\n",
      "5164771047780it [00:07, 246019751971.52it/s]\u001b[A\n",
      "5326591779081it [00:07, 329957462028.69it/s]\u001b[A\n",
      "5470484299041it [00:07, 427490752843.83it/s]\u001b[A\n",
      "5612541499305it [00:08, 528078202112.77it/s]\u001b[A\n",
      "5775820455835it [00:08, 662559531642.99it/s]\u001b[A\n",
      "5937955957440it [00:08, 805451604716.33it/s]\u001b[A\n",
      "6090508943646it [00:08, 938313651836.34it/s]\u001b[A\n",
      "6247022000086it [00:08, 1066433993238.77it/s]\u001b[A\n",
      "6407417793871it [00:08, 1185626868723.75it/s]\u001b[A\n",
      "6583479652765it [00:08, 1314400491446.25it/s]\u001b[A\n",
      "6749510916151it [00:08, 1402030378597.12it/s]\u001b[A\n",
      "6911983222770it [00:08, 1435358189218.60it/s]\u001b[A\n",
      "7081252959705it [00:09, 1503945177807.98it/s]\u001b[A\n",
      "7251176483110it [00:09, 1557648939327.95it/s]\u001b[A\n",
      "7424401654405it [00:09, 1606213812212.62it/s]\u001b[A\n",
      "7592211430840it [00:09, 1627117615308.86it/s]\u001b[A"
     ]
    },
    {
     "name": "stdout",
     "output_type": "stream",
     "text": [
      "3938038\n"
     ]
    },
    {
     "name": "stderr",
     "output_type": "stream",
     "text": [
      "22515167508466it [00:50, 1568015812837.76it/s]\n",
      "7754073613741it [00:25, 1627117615308.86it/s]\u001b[A"
     ]
    }
   ],
   "source": [
    "i=0\n",
    "while 1:\n",
    "    i += 1\n",
    "    it.update(i)\n",
    "    z=md5(bytes(data+str(i), \"ascii\")).hexdigest()\n",
    "    if z[:6]==\"000000\":\n",
    "        print(i)\n",
    "        break"
   ]
  },
  {
   "cell_type": "code",
   "execution_count": 6,
   "metadata": {},
   "outputs": [
    {
     "data": {
      "text/plain": [
       "\u001b[0;31mInit signature:\u001b[0m \u001b[0mbytes\u001b[0m\u001b[0;34m(\u001b[0m\u001b[0mself\u001b[0m\u001b[0;34m,\u001b[0m \u001b[0;34m/\u001b[0m\u001b[0;34m,\u001b[0m \u001b[0;34m*\u001b[0m\u001b[0margs\u001b[0m\u001b[0;34m,\u001b[0m \u001b[0;34m**\u001b[0m\u001b[0mkwargs\u001b[0m\u001b[0;34m)\u001b[0m\u001b[0;34m\u001b[0m\u001b[0;34m\u001b[0m\u001b[0m\n",
       "\u001b[0;31mDocstring:\u001b[0m     \n",
       "bytes(iterable_of_ints) -> bytes\n",
       "bytes(string, encoding[, errors]) -> bytes\n",
       "bytes(bytes_or_buffer) -> immutable copy of bytes_or_buffer\n",
       "bytes(int) -> bytes object of size given by the parameter initialized with null bytes\n",
       "bytes() -> empty bytes object\n",
       "\n",
       "Construct an immutable array of bytes from:\n",
       "  - an iterable yielding integers in range(256)\n",
       "  - a text string encoded using the specified encoding\n",
       "  - any object implementing the buffer API.\n",
       "  - an integer\n",
       "\u001b[0;31mType:\u001b[0m           type\n",
       "\u001b[0;31mSubclasses:\u001b[0m     \n"
      ]
     },
     "metadata": {},
     "output_type": "display_data"
    }
   ],
   "source": [
    "bytes?"
   ]
  },
  {
   "cell_type": "code",
   "execution_count": 7,
   "metadata": {},
   "outputs": [
    {
     "data": {
      "text/plain": [
       "b'ckczppom'"
      ]
     },
     "execution_count": 7,
     "metadata": {},
     "output_type": "execute_result"
    }
   ],
   "source": [
    "bytes(data, \"ascii\")"
   ]
  },
  {
   "cell_type": "code",
   "execution_count": null,
   "metadata": {},
   "outputs": [],
   "source": []
  }
 ],
 "metadata": {
  "kernelspec": {
   "display_name": "Python 3",
   "language": "python",
   "name": "python3"
  },
  "language_info": {
   "codemirror_mode": {
    "name": "ipython",
    "version": 3
   },
   "file_extension": ".py",
   "mimetype": "text/x-python",
   "name": "python",
   "nbconvert_exporter": "python",
   "pygments_lexer": "ipython3",
   "version": "3.8.3"
  }
 },
 "nbformat": 4,
 "nbformat_minor": 4
}
