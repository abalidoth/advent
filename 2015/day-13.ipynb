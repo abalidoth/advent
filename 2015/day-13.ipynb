{
 "cells": [
  {
   "cell_type": "code",
   "execution_count": 2,
   "metadata": {},
   "outputs": [
    {
     "name": "stdout",
     "output_type": "stream",
     "text": [
      "Alice would gain 2 happiness units by sitting next to Bob.\n",
      "Alice would gain 26 happiness units by sitting next to Carol.\n",
      "Alice would lose 82 happiness units by sitting next to David.\n",
      "Alice would lose 75 happiness units by sitting next to Eric.\n",
      "Alice would gain 42 happiness units by sitting next to Frank.\n"
     ]
    }
   ],
   "source": [
    "from aoc_utils import *\n",
    "data = get_data(year=2015, day=13)\n",
    "\n",
    "for i in data.split(\"\\n\")[:5]:\n",
    "    print(i)"
   ]
  },
  {
   "cell_type": "code",
   "execution_count": 4,
   "metadata": {},
   "outputs": [],
   "source": [
    "inst = \"\"\"\n",
    "sit: %name1:w would %change:w %num:n happiness units by sitting next to %name2:w.\n",
    "\"\"\"\n",
    "P=InstructionParser(inst)\n",
    "objs=P.match_block(data.lower())"
   ]
  },
  {
   "cell_type": "code",
   "execution_count": 7,
   "metadata": {},
   "outputs": [],
   "source": [
    "changes = defaultdict(int)\n",
    "for o in objs:\n",
    "    changes[frozenset([o.name1, o.name2])] += (1 if o.change==\"gain\" else -1)*o.num"
   ]
  },
  {
   "cell_type": "code",
   "execution_count": 8,
   "metadata": {},
   "outputs": [],
   "source": [
    "def check_change(l):\n",
    "    out = 0\n",
    "    return sum(changes[frozenset((i,j))] for i,j in zip(l, l[1:]+[l[0]]))"
   ]
  },
  {
   "cell_type": "code",
   "execution_count": 19,
   "metadata": {},
   "outputs": [],
   "source": [
    "names = list(frozenset().union(*changes.keys()))"
   ]
  },
  {
   "cell_type": "code",
   "execution_count": 20,
   "metadata": {},
   "outputs": [
    {
     "data": {
      "text/plain": [
       "['george', 'bob', 'mallory', 'carol', 'david', 'frank', 'eric', 'alice']"
      ]
     },
     "execution_count": 20,
     "metadata": {},
     "output_type": "execute_result"
    }
   ],
   "source": [
    "names"
   ]
  },
  {
   "cell_type": "code",
   "execution_count": 23,
   "metadata": {},
   "outputs": [
    {
     "data": {
      "text/plain": [
       "733"
      ]
     },
     "execution_count": 23,
     "metadata": {},
     "output_type": "execute_result"
    }
   ],
   "source": [
    "max(check_change([\"george\"]+ list(p)) for p in permutations(names[1:]))\n",
    "    "
   ]
  },
  {
   "cell_type": "code",
   "execution_count": 24,
   "metadata": {},
   "outputs": [],
   "source": [
    "def check_change2(l):\n",
    "    out = 0\n",
    "    return sum(changes[frozenset((i,j))] for i,j in zip(l[:-1], l[1:]))"
   ]
  },
  {
   "cell_type": "code",
   "execution_count": 25,
   "metadata": {},
   "outputs": [
    {
     "data": {
      "text/plain": [
       "725"
      ]
     },
     "execution_count": 25,
     "metadata": {},
     "output_type": "execute_result"
    }
   ],
   "source": [
    "max(check_change2(list(p)) for p in permutations(names))\n"
   ]
  },
  {
   "cell_type": "code",
   "execution_count": null,
   "metadata": {},
   "outputs": [],
   "source": []
  }
 ],
 "metadata": {
  "kernelspec": {
   "display_name": "Python 3",
   "language": "python",
   "name": "python3"
  },
  "language_info": {
   "codemirror_mode": {
    "name": "ipython",
    "version": 3
   },
   "file_extension": ".py",
   "mimetype": "text/x-python",
   "name": "python",
   "nbconvert_exporter": "python",
   "pygments_lexer": "ipython3",
   "version": "3.8.3"
  }
 },
 "nbformat": 4,
 "nbformat_minor": 4
}
