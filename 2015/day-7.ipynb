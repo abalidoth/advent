{
 "cells": [
  {
   "cell_type": "code",
   "execution_count": 1,
   "metadata": {},
   "outputs": [],
   "source": [
    "from aoc_utils import *\n",
    "from aocd import get_data\n",
    "data = get_data(year=2015,day=7)"
   ]
  },
  {
   "cell_type": "code",
   "execution_count": 2,
   "metadata": {},
   "outputs": [],
   "source": [
    "inst=\"\"\"\n",
    "not: not %a:w -> %out:w\n",
    "vv_op: %a:w %op:w %b:w -> %out:w\n",
    "vn_op: %a:w %op:w %b:n -> %out:w\n",
    "nv_op: %a:n %op:w %b:w -> %out:w\n",
    "nn_op: %a:n %op:w %b:n -> %out:w\n",
    "n_ass: %val:n -> %out:w\n",
    "v_ass: %a:w -> %out:w\"\"\""
   ]
  },
  {
   "cell_type": "code",
   "execution_count": 3,
   "metadata": {},
   "outputs": [],
   "source": [
    "P=InstructionParser(inst)"
   ]
  },
  {
   "cell_type": "code",
   "execution_count": 4,
   "metadata": {},
   "outputs": [
    {
     "data": {
      "text/plain": [
       "['not dq -> dr',\n",
       " 'kg or kf -> kh',\n",
       " 'ep or eo -> eq',\n",
       " '44430 -> b',\n",
       " 'not gs -> gt',\n",
       " 'dd or do -> dp',\n",
       " 'eg and ei -> ej',\n",
       " 'y and ae -> ag',\n",
       " 'jx and jz -> ka',\n",
       " 'lf rshift 2 -> lg']"
      ]
     },
     "execution_count": 4,
     "metadata": {},
     "output_type": "execute_result"
    }
   ],
   "source": [
    "lines = data.lower().split(\"\\n\")\n",
    "lines[:10]"
   ]
  },
  {
   "cell_type": "code",
   "execution_count": 5,
   "metadata": {},
   "outputs": [
    {
     "data": {
      "text/plain": [
       "[{'rule': 'not', 'a': 'dq', 'out': 'dr'},\n",
       " {'rule': 'vv_op', 'a': 'kg', 'op': 'or', 'b': 'kf', 'out': 'kh'},\n",
       " {'rule': 'vv_op', 'a': 'ep', 'op': 'or', 'b': 'eo', 'out': 'eq'},\n",
       " {'rule': 'n_ass', 'val': 44430, 'out': 'b'},\n",
       " {'rule': 'not', 'a': 'gs', 'out': 'gt'}]"
      ]
     },
     "execution_count": 5,
     "metadata": {},
     "output_type": "execute_result"
    }
   ],
   "source": [
    "P.match_list(lines[:5], as_dict=True)"
   ]
  },
  {
   "cell_type": "code",
   "execution_count": 6,
   "metadata": {},
   "outputs": [],
   "source": [
    "def calculate_circuit(ops):\n",
    "    work = ops[:]\n",
    "    variables = dict()\n",
    "    while work:\n",
    "        new = []\n",
    "        for op in work:\n",
    "            applied = False\n",
    "            if op.rule == \"n_ass\":\n",
    "                variables[op.out] = op.val\n",
    "                applied = True\n",
    "            elif op.rule == \"v_ass\":\n",
    "                if op.a in variables:\n",
    "                    variables[op.out] = variables[op.a]\n",
    "                    applied = True\n",
    "            elif op.rule[-2:] == \"op\":\n",
    "                if isinstance(op.a, int):\n",
    "                    a = op.a\n",
    "                elif op.a in variables:\n",
    "                    a = variables[op.a]\n",
    "                else:\n",
    "                    a = None\n",
    "                if isinstance(op.b, int):\n",
    "                    b = op.b\n",
    "                elif op.b in variables:\n",
    "                    b = variables[op.b]\n",
    "                else:\n",
    "                    b = None\n",
    "                if a is not None and b is not None:\n",
    "                    if op.op == \"or\":\n",
    "                        variables[op.out] = a | b\n",
    "                    elif op.op == \"and\":\n",
    "                        variables[op.out] = a & b\n",
    "                    elif op.op == \"lshift\":\n",
    "                        variables[op.out] = a << b\n",
    "                    elif op.op == \"rshift\":\n",
    "                        variables[op.out] = a >> b\n",
    "                    applied = True\n",
    "            elif op.rule == \"not\":\n",
    "                if op.a in variables:\n",
    "                    variables[op.out] = 65535 - variables[op.a]\n",
    "                    applied = True\n",
    "            if not applied:\n",
    "                new.append(op)\n",
    "        work = new\n",
    "    return variables\n",
    "                \n",
    "            "
   ]
  },
  {
   "cell_type": "code",
   "execution_count": 7,
   "metadata": {},
   "outputs": [],
   "source": [
    "testblock = \"\"\"123 -> x\n",
    "456 -> y\n",
    "x AND y -> d\n",
    "x OR y -> e\n",
    "x LSHIFT 2 -> f\n",
    "y RSHIFT 2 -> g\n",
    "NOT x -> h\n",
    "NOT y -> i\"\"\"\n",
    "testops = P.match_block(testblock.lower())"
   ]
  },
  {
   "cell_type": "code",
   "execution_count": 8,
   "metadata": {},
   "outputs": [
    {
     "data": {
      "text/plain": [
       "{'x': 123,\n",
       " 'y': 456,\n",
       " 'd': 72,\n",
       " 'e': 507,\n",
       " 'f': 492,\n",
       " 'g': 114,\n",
       " 'h': 65412,\n",
       " 'i': 65079}"
      ]
     },
     "execution_count": 8,
     "metadata": {},
     "output_type": "execute_result"
    }
   ],
   "source": [
    "calculate_circuit(testops)"
   ]
  },
  {
   "cell_type": "code",
   "execution_count": 9,
   "metadata": {},
   "outputs": [],
   "source": [
    "all_ops = P.match_block(data.lower())"
   ]
  },
  {
   "cell_type": "code",
   "execution_count": 10,
   "metadata": {},
   "outputs": [],
   "source": [
    "c_vars = calculate_circuit(all_ops)"
   ]
  },
  {
   "cell_type": "code",
   "execution_count": 11,
   "metadata": {},
   "outputs": [
    {
     "data": {
      "text/plain": [
       "3176"
      ]
     },
     "execution_count": 11,
     "metadata": {},
     "output_type": "execute_result"
    }
   ],
   "source": [
    "c_vars[\"a\"]"
   ]
  },
  {
   "cell_type": "code",
   "execution_count": 13,
   "metadata": {},
   "outputs": [
    {
     "name": "stdout",
     "output_type": "stream",
     "text": [
      "44430\n"
     ]
    }
   ],
   "source": [
    "for op in all_ops:\n",
    "    if op.rule==\"n_ass\" and op.out==\"b\":\n",
    "        print(op.val)"
   ]
  },
  {
   "cell_type": "code",
   "execution_count": 16,
   "metadata": {},
   "outputs": [],
   "source": [
    "new_ops = []\n",
    "for op in all_ops:\n",
    "    if op.rule == \"n_ass\" and op.out == \"b\":\n",
    "        new_ops.append(DataObj({\"rule\":\"n_ass\", \"val\":3176, \"out\":\"b\"}))\n",
    "    else:\n",
    "        new_ops.append(op)"
   ]
  },
  {
   "cell_type": "code",
   "execution_count": 17,
   "metadata": {},
   "outputs": [],
   "source": [
    "new_vars = calculate_circuit(new_ops)"
   ]
  },
  {
   "cell_type": "code",
   "execution_count": 18,
   "metadata": {},
   "outputs": [
    {
     "data": {
      "text/plain": [
       "14710"
      ]
     },
     "execution_count": 18,
     "metadata": {},
     "output_type": "execute_result"
    }
   ],
   "source": [
    "new_vars[\"a\"]"
   ]
  },
  {
   "cell_type": "code",
   "execution_count": 5,
   "metadata": {},
   "outputs": [
    {
     "data": {
      "text/plain": [
       "42"
      ]
     },
     "execution_count": 5,
     "metadata": {},
     "output_type": "execute_result"
    }
   ],
   "source": [
    "0x2a"
   ]
  },
  {
   "cell_type": "code",
   "execution_count": 6,
   "metadata": {},
   "outputs": [
    {
     "data": {
      "text/plain": [
       "10"
      ]
     },
     "execution_count": 6,
     "metadata": {},
     "output_type": "execute_result"
    }
   ],
   "source": [
    "42 & 15"
   ]
  },
  {
   "cell_type": "code",
   "execution_count": 4,
   "metadata": {},
   "outputs": [
    {
     "data": {
      "text/plain": [
       "'-0b101011'"
      ]
     },
     "execution_count": 4,
     "metadata": {},
     "output_type": "execute_result"
    }
   ],
   "source": [
    "bin(~42)"
   ]
  },
  {
   "cell_type": "code",
   "execution_count": 5,
   "metadata": {},
   "outputs": [
    {
     "data": {
      "text/plain": [
       "-43"
      ]
     },
     "execution_count": 5,
     "metadata": {},
     "output_type": "execute_result"
    }
   ],
   "source": [
    "~42"
   ]
  },
  {
   "cell_type": "code",
   "execution_count": 7,
   "metadata": {},
   "outputs": [
    {
     "ename": "TypeError",
     "evalue": "bad operand type for unary ~: 'bytes'",
     "output_type": "error",
     "traceback": [
      "\u001b[0;31m---------------------------------------------------------------------------\u001b[0m",
      "\u001b[0;31mTypeError\u001b[0m                                 Traceback (most recent call last)",
      "\u001b[0;32m<ipython-input-7-238c737fd1c8>\u001b[0m in \u001b[0;36m<module>\u001b[0;34m\u001b[0m\n\u001b[0;32m----> 1\u001b[0;31m \u001b[0;34m~\u001b[0m\u001b[0;34mb\"a\"\u001b[0m\u001b[0;34m\u001b[0m\u001b[0;34m\u001b[0m\u001b[0m\n\u001b[0m",
      "\u001b[0;31mTypeError\u001b[0m: bad operand type for unary ~: 'bytes'"
     ]
    }
   ],
   "source": [
    "~b\"a\""
   ]
  },
  {
   "cell_type": "code",
   "execution_count": null,
   "metadata": {},
   "outputs": [],
   "source": []
  }
 ],
 "metadata": {
  "kernelspec": {
   "display_name": "Python 3",
   "language": "python",
   "name": "python3"
  },
  "language_info": {
   "codemirror_mode": {
    "name": "ipython",
    "version": 3
   },
   "file_extension": ".py",
   "mimetype": "text/x-python",
   "name": "python",
   "nbconvert_exporter": "python",
   "pygments_lexer": "ipython3",
   "version": "3.8.3"
  }
 },
 "nbformat": 4,
 "nbformat_minor": 4
}
