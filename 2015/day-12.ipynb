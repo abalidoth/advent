{
 "cells": [
  {
   "cell_type": "code",
   "execution_count": 1,
   "metadata": {},
   "outputs": [],
   "source": [
    "from aoc_utils import *\n",
    "data = get_data(year=2015, day=12)"
   ]
  },
  {
   "cell_type": "code",
   "execution_count": 4,
   "metadata": {},
   "outputs": [],
   "source": [
    "import json"
   ]
  },
  {
   "cell_type": "code",
   "execution_count": 5,
   "metadata": {},
   "outputs": [],
   "source": [
    "jdata = json.loads(data)"
   ]
  },
  {
   "cell_type": "code",
   "execution_count": 12,
   "metadata": {},
   "outputs": [],
   "source": [
    "def get_numbers(ob):\n",
    "    if isinstance(ob,int):\n",
    "        return ob\n",
    "    elif isinstance(ob,list):\n",
    "        return sum(get_numbers(o2) for o2 in ob)\n",
    "    elif isinstance(ob, dict):\n",
    "        return sum(get_numbers(o2) for o2 in ob.values())\n",
    "    elif isinstance(ob, str):\n",
    "        return 0\n",
    "    else:\n",
    "        raise TypeError(\"oops you missed\"+str(type(ob)))"
   ]
  },
  {
   "cell_type": "code",
   "execution_count": 13,
   "metadata": {},
   "outputs": [
    {
     "data": {
      "text/plain": [
       "111754"
      ]
     },
     "execution_count": 13,
     "metadata": {},
     "output_type": "execute_result"
    }
   ],
   "source": [
    "get_numbers(jdata)"
   ]
  },
  {
   "cell_type": "code",
   "execution_count": 14,
   "metadata": {},
   "outputs": [],
   "source": [
    "def get_numbers(ob):\n",
    "    if isinstance(ob,int):\n",
    "        return ob\n",
    "    elif isinstance(ob,list):\n",
    "        return sum(get_numbers(o2) for o2 in ob)\n",
    "    elif isinstance(ob, dict):\n",
    "        if \"red\" in ob.values():\n",
    "            return 0\n",
    "        else:\n",
    "            return sum(get_numbers(o2) for o2 in ob.values())\n",
    "    elif isinstance(ob, str):\n",
    "        return 0\n",
    "    else:\n",
    "        raise TypeError(\"oops you missed\"+str(type(ob)))"
   ]
  },
  {
   "cell_type": "code",
   "execution_count": 15,
   "metadata": {},
   "outputs": [
    {
     "data": {
      "text/plain": [
       "65402"
      ]
     },
     "execution_count": 15,
     "metadata": {},
     "output_type": "execute_result"
    }
   ],
   "source": [
    "get_numbers(jdata)"
   ]
  },
  {
   "cell_type": "code",
   "execution_count": null,
   "metadata": {},
   "outputs": [],
   "source": []
  }
 ],
 "metadata": {
  "kernelspec": {
   "display_name": "Python 3",
   "language": "python",
   "name": "python3"
  },
  "language_info": {
   "codemirror_mode": {
    "name": "ipython",
    "version": 3
   },
   "file_extension": ".py",
   "mimetype": "text/x-python",
   "name": "python",
   "nbconvert_exporter": "python",
   "pygments_lexer": "ipython3",
   "version": "3.8.3"
  }
 },
 "nbformat": 4,
 "nbformat_minor": 4
}
