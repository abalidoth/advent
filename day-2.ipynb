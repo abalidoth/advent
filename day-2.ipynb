{
 "cells": [
  {
   "cell_type": "code",
   "execution_count": 1,
   "metadata": {},
   "outputs": [
    {
     "name": "stdout",
     "output_type": "stream",
     "text": [
      "4-5 l: rllllj\n",
      "4-10 s: ssskssphrlpscsxrfsr\n",
      "14-18 p: ppppppppppppppppppp\n",
      "1-6 z: zzlzvmqbzzclrz\n",
      "4-5 j: jhjjhxhjkxj\n"
     ]
    }
   ],
   "source": [
    "from aoc_utils import *\n",
    "from aocd import get_data\n",
    "data = get_data(year=2020, day=2)\n",
    "\n",
    "for i in data.split(\"\\n\")[:5]:\n",
    "    print(i)"
   ]
  },
  {
   "cell_type": "code",
   "execution_count": 33,
   "metadata": {},
   "outputs": [],
   "source": [
    "inst = \"\"\"\n",
    "pol: %min:n-%max:n %letr:w: %pas:w\n",
    "\"\"\"\n",
    "P=InstructionParser(inst)\n",
    "objs=P.match_block(data)"
   ]
  },
  {
   "cell_type": "code",
   "execution_count": 8,
   "metadata": {},
   "outputs": [
    {
     "ename": "SyntaxError",
     "evalue": "invalid syntax (<ipython-input-8-a973381cbaa0>, line 1)",
     "output_type": "error",
     "traceback": [
      "\u001b[0;36m  File \u001b[0;32m\"<ipython-input-8-a973381cbaa0>\"\u001b[0;36m, line \u001b[0;32m1\u001b[0m\n\u001b[0;31m    sum(sum((o.let == i) for i in o.pass) in range(o.min, o.max+1) for o in objs)\u001b[0m\n\u001b[0m                                    ^\u001b[0m\n\u001b[0;31mSyntaxError\u001b[0m\u001b[0;31m:\u001b[0m invalid syntax\n"
     ]
    }
   ],
   "source": [
    "sum(sum((o.let == i) for i in o.pass) in range(o.min, o.max+1) for o in objs)\n"
   ]
  },
  {
   "cell_type": "code",
   "execution_count": 15,
   "metadata": {},
   "outputs": [],
   "source": [
    "out = 0\n",
    "for o in objs:\n",
    "    a=sum((o.letr == i) for i in o.pas)\n",
    "    if a in range(o.min, o.max+1):\n",
    "        out += 1"
   ]
  },
  {
   "cell_type": "code",
   "execution_count": 16,
   "metadata": {},
   "outputs": [
    {
     "data": {
      "text/plain": [
       "434"
      ]
     },
     "execution_count": 16,
     "metadata": {},
     "output_type": "execute_result"
    }
   ],
   "source": [
    "out"
   ]
  },
  {
   "cell_type": "code",
   "execution_count": 12,
   "metadata": {},
   "outputs": [
    {
     "data": {
      "text/plain": [
       "'l'"
      ]
     },
     "execution_count": 12,
     "metadata": {},
     "output_type": "execute_result"
    }
   ],
   "source": [
    "objs[0].letr"
   ]
  },
  {
   "cell_type": "code",
   "execution_count": 13,
   "metadata": {},
   "outputs": [
    {
     "ename": "SyntaxError",
     "evalue": "invalid syntax (<ipython-input-13-482bfe4e90f2>, line 1)",
     "output_type": "error",
     "traceback": [
      "\u001b[0;36m  File \u001b[0;32m\"<ipython-input-13-482bfe4e90f2>\"\u001b[0;36m, line \u001b[0;32m1\u001b[0m\n\u001b[0;31m    sum((objs[0].letr == i) for i in o.pass)\u001b[0m\n\u001b[0m                                       ^\u001b[0m\n\u001b[0;31mSyntaxError\u001b[0m\u001b[0;31m:\u001b[0m invalid syntax\n"
     ]
    }
   ],
   "source": [
    "sum((objs[0].letr == i) for i in o.pass)"
   ]
  },
  {
   "cell_type": "code",
   "execution_count": 35,
   "metadata": {},
   "outputs": [
    {
     "data": {
      "text/plain": [
       "509"
      ]
     },
     "execution_count": 35,
     "metadata": {},
     "output_type": "execute_result"
    }
   ],
   "source": [
    "out = 0\n",
    "for o in objs:\n",
    "    b = 0\n",
    "    if o.min<=len(o.pas) and o.pas[o.min-1] == o.letr:\n",
    "        b += 1\n",
    "    if o.max<=len(o.pas) and o.pas[o.max-1] == o.letr:\n",
    "        b += 1\n",
    "    if b == 1:\n",
    "        out += 1\n",
    "        \n",
    "        \n",
    "out"
   ]
  },
  {
   "cell_type": "code",
   "execution_count": 36,
   "metadata": {},
   "outputs": [
    {
     "name": "stdout",
     "output_type": "stream",
     "text": [
      "434 509\n"
     ]
    }
   ],
   "source": [
    "from aoc_utils import *\n",
    "from aocd import get_data\n",
    "data = get_data(year=2020, day=2)\n",
    "\n",
    "inst = \"\"\"\n",
    "pol: %min:n-%max:n %letr:w: %pas:w\n",
    "\"\"\"\n",
    "P=InstructionParser(inst)\n",
    "objs=P.match_block(data)\n",
    "\n",
    "out1 = 0\n",
    "for o in objs:\n",
    "    a=sum((o.letr == i) for i in o.pas)\n",
    "    if a in range(o.min, o.max+1):\n",
    "        out1 += 1\n",
    "        \n",
    "out2 = 0\n",
    "for o in objs:\n",
    "    b = 0\n",
    "    if o.min<=len(o.pas) and o.pas[o.min-1] == o.letr:\n",
    "        b += 1\n",
    "    if o.max<=len(o.pas) and o.pas[o.max-1] == o.letr:\n",
    "        b += 1\n",
    "    if b == 1:\n",
    "        out2 += 1\n",
    "\n",
    "print(out1, out2)"
   ]
  },
  {
   "cell_type": "code",
   "execution_count": null,
   "metadata": {},
   "outputs": [],
   "source": []
  }
 ],
 "metadata": {
  "kernelspec": {
   "display_name": "Python 3",
   "language": "python",
   "name": "python3"
  },
  "language_info": {
   "codemirror_mode": {
    "name": "ipython",
    "version": 3
   },
   "file_extension": ".py",
   "mimetype": "text/x-python",
   "name": "python",
   "nbconvert_exporter": "python",
   "pygments_lexer": "ipython3",
   "version": "3.8.3"
  }
 },
 "nbformat": 4,
 "nbformat_minor": 4
}
