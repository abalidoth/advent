{
 "cells": [
  {
   "cell_type": "code",
   "execution_count": 36,
   "metadata": {},
   "outputs": [
    {
     "name": "stdout",
     "output_type": "stream",
     "text": [
      "BBFFFBBLLR\n",
      "BBFFFFFLRL\n",
      "BFBFFFBLRR\n",
      "FBBFFFFRLL\n",
      "FFBFFFBLRR\n"
     ]
    }
   ],
   "source": [
    "from aoc_utils import *\n",
    "data = get_data(year=2020, day=5)\n",
    "\n",
    "for i in data.split(\"\\n\")[:5]:\n",
    "    print(i)"
   ]
  },
  {
   "cell_type": "code",
   "execution_count": 37,
   "metadata": {},
   "outputs": [],
   "source": [
    "lines = data.split(\"\\n\")"
   ]
  },
  {
   "cell_type": "code",
   "execution_count": 38,
   "metadata": {},
   "outputs": [],
   "source": [
    "rows_l = [[j == \"B\" for j in i[:-3]] for i in lines]\n",
    "cols_l = [[j==\"R\" for j in i[-3:]] for i in lines]"
   ]
  },
  {
   "cell_type": "code",
   "execution_count": 39,
   "metadata": {},
   "outputs": [],
   "source": [
    "rows = (np.array(rows_l)*2**np.arange(7)[::-1]).sum(axis=1)"
   ]
  },
  {
   "cell_type": "code",
   "execution_count": 40,
   "metadata": {},
   "outputs": [],
   "source": [
    "cols = (np.array(cols_l)*2**np.arange(3)[::-1]).sum(axis=1)"
   ]
  },
  {
   "cell_type": "code",
   "execution_count": 31,
   "metadata": {},
   "outputs": [],
   "source": [
    "ids = rows*8+cols"
   ]
  },
  {
   "cell_type": "code",
   "execution_count": 42,
   "metadata": {},
   "outputs": [
    {
     "name": "stdout",
     "output_type": "stream",
     "text": [
      "861\n"
     ]
    }
   ],
   "source": [
    "print(ids.max())"
   ]
  },
  {
   "cell_type": "code",
   "execution_count": 43,
   "metadata": {},
   "outputs": [
    {
     "name": "stdout",
     "output_type": "stream",
     "text": [
      "633\n"
     ]
    }
   ],
   "source": [
    "for i in ids:\n",
    "    if i-2 in ids and i-1 not in ids:\n",
    "        print( i-1)"
   ]
  },
  {
   "cell_type": "code",
   "execution_count": null,
   "metadata": {},
   "outputs": [],
   "source": [
    "    from aoc_utils import *\n",
    "    data = get_data(year=2020, day=5)\n",
    "    lines = data.split(\"\\n\")\n",
    "\n",
    "    rows_l = [[j == \"B\" for j in i[:-3]] for i in lines]\n",
    "    cols_l = [[j==\"R\" for j in i[-3:]] for i in lines]\n",
    "\n",
    "    rows = (np.array(rows_l)*2**np.arange(7)[::-1]).sum(axis=1)\n",
    "    cols = (np.array(cols_l)*2**np.arange(3)[::-1]).sum(axis=1)\n",
    "    ids = rows*8+cols\n",
    "\n",
    "    print(ids.max()) #part 1\n",
    "\n",
    "    for i in ids:\n",
    "        if i-2 in ids and i-1 not in ids:\n",
    "            print( i-1) #part 2"
   ]
  }
 ],
 "metadata": {
  "kernelspec": {
   "display_name": "Python 3",
   "language": "python",
   "name": "python3"
  },
  "language_info": {
   "codemirror_mode": {
    "name": "ipython",
    "version": 3
   },
   "file_extension": ".py",
   "mimetype": "text/x-python",
   "name": "python",
   "nbconvert_exporter": "python",
   "pygments_lexer": "ipython3",
   "version": "3.8.3"
  }
 },
 "nbformat": 4,
 "nbformat_minor": 4
}
