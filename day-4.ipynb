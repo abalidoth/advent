{
 "cells": [
  {
   "cell_type": "code",
   "execution_count": 32,
   "metadata": {},
   "outputs": [
    {
     "name": "stdout",
     "output_type": "stream",
     "text": [
      "hcl:5d90f0 cid:270 ecl:#66dc9c hgt:62cm byr:1945 pid:63201172 eyr:2026\n",
      "\n",
      "ecl:amb byr:1943 iyr:2014 eyr:2028\n",
      "pid:333051831\n",
      "\n"
     ]
    }
   ],
   "source": [
    "from aoc_utils import *\n",
    "data = get_data(year=2020, day=4)\n",
    "\n",
    "for i in data.split(\"\\n\")[:5]:\n",
    "    print(i)"
   ]
  },
  {
   "cell_type": "code",
   "execution_count": null,
   "metadata": {},
   "outputs": [],
   "source": []
  },
  {
   "cell_type": "code",
   "execution_count": 33,
   "metadata": {},
   "outputs": [],
   "source": [
    "rows = [row.replace(\"\\n\",\" \") for row in data.split(\"\\n\\n\")]"
   ]
  },
  {
   "cell_type": "code",
   "execution_count": 34,
   "metadata": {},
   "outputs": [],
   "source": [
    "rowparsed = [re.finditer(r'([a-z]{3}):[^ ]+', j) for j in rows]"
   ]
  },
  {
   "cell_type": "code",
   "execution_count": 35,
   "metadata": {},
   "outputs": [],
   "source": [
    "rowheads = [[i.group(1) for i in j] for j in rowparsed]"
   ]
  },
  {
   "cell_type": "code",
   "execution_count": 43,
   "metadata": {},
   "outputs": [],
   "source": [
    "\n",
    "needed = ['byr', 'pid', 'iyr', 'ecl', 'eyr', 'hcl', 'hgt']\n",
    "z=[all(i in j for i in needed) for j in rowheads]"
   ]
  },
  {
   "cell_type": "code",
   "execution_count": 37,
   "metadata": {},
   "outputs": [
    {
     "data": {
      "text/plain": [
       "True"
      ]
     },
     "execution_count": 37,
     "metadata": {},
     "output_type": "execute_result"
    }
   ],
   "source": [
    "all([i in needed for i in rowheads[2]])"
   ]
  },
  {
   "cell_type": "code",
   "execution_count": 44,
   "metadata": {},
   "outputs": [
    {
     "data": {
      "text/plain": [
       "216"
      ]
     },
     "execution_count": 44,
     "metadata": {},
     "output_type": "execute_result"
    }
   ],
   "source": [
    "sum(z)"
   ]
  },
  {
   "cell_type": "code",
   "execution_count": 64,
   "metadata": {},
   "outputs": [],
   "source": [
    "rowparsed = [re.finditer(r'([a-z]{3}):([^ ]+)', j) for j in rows]"
   ]
  },
  {
   "cell_type": "code",
   "execution_count": 65,
   "metadata": {},
   "outputs": [],
   "source": [
    "rowvals = [{i.group(1):i.group(2) for i in j} for j in rowparsed]"
   ]
  },
  {
   "cell_type": "code",
   "execution_count": 81,
   "metadata": {},
   "outputs": [
    {
     "name": "stdout",
     "output_type": "stream",
     "text": [
      "ecl lzr\n",
      "ecl #7e0ae0\n",
      "ecl #0188d8\n"
     ]
    },
    {
     "data": {
      "text/plain": [
       "150"
      ]
     },
     "execution_count": 81,
     "metadata": {},
     "output_type": "execute_result"
    }
   ],
   "source": [
    "out = 0\n",
    "for i in rowvals:\n",
    "    try:\n",
    "        byr = i[\"byr\"]\n",
    "        if len(byr)!=4 or int(byr)<1920 or int(byr)>2002:\n",
    "            continue\n",
    "        iyr =i[\"iyr\"]\n",
    "        if len(iyr)!=4 or int(iyr)<2010 or int(iyr)>2020:\n",
    "            continue\n",
    "        eyr = i[\"eyr\"]\n",
    "        if len(eyr)!=4 or int(eyr)<2020 or int(eyr)>2030:\n",
    "            continue\n",
    "        hgt = i[\"hgt\"]\n",
    "        if hgt[-2:] == \"cm\":\n",
    "            h = int(hgt[:-2])\n",
    "            if h<150 or h>193:\n",
    "                continue\n",
    "        elif hgt[-2:]==\"in\":\n",
    "            h = int(hgt[:-2])\n",
    "            if h<59 or h>76:\n",
    "                continue\n",
    "        else:\n",
    "            continue\n",
    "        hcl=i[\"hcl\"]\n",
    "        if not re.fullmatch(r\"#[0-9a-f]{6}\",hcl):\n",
    "            continue\n",
    "        ecl = i[\"ecl\"]\n",
    "        if ecl not in \"amb blu brn gry grn hzl oth\".split(\" \"):\n",
    "            print(\"ecl\", ecl)\n",
    "            continue\n",
    "        pid = i[\"pid\"]\n",
    "        if len(pid) != 9:\n",
    "            continue\n",
    "        out += 1\n",
    "    except KeyError:\n",
    "        pass\n",
    "    except:\n",
    "        raise\n",
    "out"
   ]
  },
  {
   "cell_type": "code",
   "execution_count": null,
   "metadata": {},
   "outputs": [],
   "source": [
    "from aoc_utils import *\n",
    "data = get_data(year=2020, day=4)\n",
    "\n",
    "rows = [row.replace(\"\\n\",\" \") for row in data.split(\"\\n\\n\")]\n",
    "rowparsed = [re.finditer(r'([a-z]{3}):([^ ]+)', j) for j in rows]\n",
    "rowheads = [[i.group(1) for i in j] for j in rowparsed]\n",
    "\n",
    "needed = ['byr', 'pid', 'iyr', 'ecl', 'eyr', 'hcl', 'hgt']\n",
    "print(sum(all(i in j for i in needed) for j in rowheads))\n",
    "\n",
    "rowparsed = [re.finditer(r'([a-z]{3}):([^ ]+)', j) for j in rows]\n"
   ]
  }
 ],
 "metadata": {
  "kernelspec": {
   "display_name": "Python 3",
   "language": "python",
   "name": "python3"
  },
  "language_info": {
   "codemirror_mode": {
    "name": "ipython",
    "version": 3
   },
   "file_extension": ".py",
   "mimetype": "text/x-python",
   "name": "python",
   "nbconvert_exporter": "python",
   "pygments_lexer": "ipython3",
   "version": "3.8.3"
  }
 },
 "nbformat": 4,
 "nbformat_minor": 4
}
