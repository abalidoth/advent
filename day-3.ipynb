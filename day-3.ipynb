{
 "cells": [
  {
   "cell_type": "code",
   "execution_count": 1,
   "metadata": {},
   "outputs": [
    {
     "name": "stdout",
     "output_type": "stream",
     "text": [
      "..#......###....#...##..#.#....\n",
      ".#.#.....#.##.....###...##...##\n",
      "..#.#..#...........#.#..#......\n",
      "..#......#..........###........\n",
      "...#..###..##.#..#.......##..##\n"
     ]
    }
   ],
   "source": [
    "from aoc_utils import *\n",
    "data = get_data(year=2020, day=3)\n",
    "\n",
    "for i in data.split(\"\\n\")[:5]:\n",
    "    print(i)"
   ]
  },
  {
   "cell_type": "code",
   "execution_count": 2,
   "metadata": {},
   "outputs": [],
   "source": [
    "data = [[i==\"#\" for i in s] for s in data.split(\"\\n\")]"
   ]
  },
  {
   "cell_type": "code",
   "execution_count": 4,
   "metadata": {},
   "outputs": [
    {
     "data": {
      "text/plain": [
       "[78, 262, 66, 69, 29]"
      ]
     },
     "execution_count": 4,
     "metadata": {},
     "output_type": "execute_result"
    }
   ],
   "source": [
    "out2 = []\n",
    "for j1,j2 in [(1,1),(3,1),(5,1),(7,1),(1,2)]:\n",
    "    out = 0\n",
    "    for i in range(0,len(data),j2):\n",
    "        out += data[i][(j1*i)%len(data[0])]\n",
    "    out2.append(out)\n",
    "out2[0]\n",
    "np.prod(out2)"
   ]
  },
  {
   "cell_type": "code",
   "execution_count": 5,
   "metadata": {},
   "outputs": [
    {
     "data": {
      "text/plain": [
       "2698900776"
      ]
     },
     "execution_count": 5,
     "metadata": {},
     "output_type": "execute_result"
    }
   ],
   "source": [
    "np.prod(out2)"
   ]
  },
  {
   "cell_type": "code",
   "execution_count": 8,
   "metadata": {},
   "outputs": [
    {
     "name": "stdout",
     "output_type": "stream",
     "text": [
      "262 2698900776\n"
     ]
    }
   ],
   "source": [
    "from aoc_utils import *\n",
    "raw_data = get_data(year=2020, day=3)\n",
    "\n",
    "data = [[i==\"#\" for i in s] for s in raw_data.split(\"\\n\")]\n",
    "\n",
    "out2 = []\n",
    "for j1,j2 in [(1,1),(3,1),(5,1),(7,1),(1,2)]:\n",
    "    out = 0\n",
    "    for i in range(0,len(data),j2):\n",
    "        out += data[i][(j1*i)%len(data[0])]\n",
    "    out2.append(out)\n",
    "print(out2[1], np.prod(out2))"
   ]
  },
  {
   "cell_type": "code",
   "execution_count": null,
   "metadata": {},
   "outputs": [],
   "source": []
  }
 ],
 "metadata": {
  "kernelspec": {
   "display_name": "Python 3",
   "language": "python",
   "name": "python3"
  },
  "language_info": {
   "codemirror_mode": {
    "name": "ipython",
    "version": 3
   },
   "file_extension": ".py",
   "mimetype": "text/x-python",
   "name": "python",
   "nbconvert_exporter": "python",
   "pygments_lexer": "ipython3",
   "version": "3.8.3"
  }
 },
 "nbformat": 4,
 "nbformat_minor": 4
}
