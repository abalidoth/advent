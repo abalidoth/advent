{
 "cells": [
  {
   "cell_type": "code",
   "execution_count": 1,
   "metadata": {},
   "outputs": [],
   "source": [
    "import re"
   ]
  },
  {
   "cell_type": "code",
   "execution_count": 2,
   "metadata": {},
   "outputs": [
    {
     "data": {
      "text/plain": [
       "\u001b[0;31mSignature:\u001b[0m \u001b[0mstr\u001b[0m\u001b[0;34m.\u001b[0m\u001b[0mstrip\u001b[0m\u001b[0;34m(\u001b[0m\u001b[0mself\u001b[0m\u001b[0;34m,\u001b[0m \u001b[0mchars\u001b[0m\u001b[0;34m=\u001b[0m\u001b[0;32mNone\u001b[0m\u001b[0;34m,\u001b[0m \u001b[0;34m/\u001b[0m\u001b[0;34m)\u001b[0m\u001b[0;34m\u001b[0m\u001b[0;34m\u001b[0m\u001b[0m\n",
       "\u001b[0;31mDocstring:\u001b[0m\n",
       "Return a copy of the string with leading and trailing whitespace removed.\n",
       "\n",
       "If chars is given and not None, remove characters in chars instead.\n",
       "\u001b[0;31mType:\u001b[0m      method_descriptor\n"
      ]
     },
     "metadata": {},
     "output_type": "display_data"
    }
   ],
   "source": [
    "str.strip?"
   ]
  },
  {
   "cell_type": "code",
   "execution_count": 22,
   "metadata": {},
   "outputs": [
    {
     "name": "stdout",
     "output_type": "stream",
     "text": [
      "\\[](){}*+?|^$.\n"
     ]
    }
   ],
   "source": [
    "SPECIAL_CHARS = r\"\\[](){}*+?|^$.\"\n",
    "print(SPECIAL_CHARS)"
   ]
  },
  {
   "cell_type": "code",
   "execution_count": 23,
   "metadata": {},
   "outputs": [],
   "source": [
    "s = r\"t\\his^ i[s] (a) {t}es|t. $or*ry?\""
   ]
  },
  {
   "cell_type": "code",
   "execution_count": 24,
   "metadata": {},
   "outputs": [
    {
     "name": "stdout",
     "output_type": "stream",
     "text": [
      "\\\n",
      "t\\\\his^ i[s] (a) {t}es|t. $or*ry?\n",
      "[\n",
      "t\\\\his^ i\\[s] (a) {t}es|t. $or*ry?\n",
      "]\n",
      "t\\\\his^ i\\[s\\] (a) {t}es|t. $or*ry?\n",
      "(\n",
      "t\\\\his^ i\\[s\\] \\(a) {t}es|t. $or*ry?\n",
      ")\n",
      "t\\\\his^ i\\[s\\] \\(a\\) {t}es|t. $or*ry?\n",
      "{\n",
      "t\\\\his^ i\\[s\\] \\(a\\) \\{t}es|t. $or*ry?\n",
      "}\n",
      "t\\\\his^ i\\[s\\] \\(a\\) \\{t\\}es|t. $or*ry?\n",
      "*\n",
      "t\\\\his^ i\\[s\\] \\(a\\) \\{t\\}es|t. $or\\*ry?\n",
      "+\n",
      "t\\\\his^ i\\[s\\] \\(a\\) \\{t\\}es|t. $or\\*ry?\n",
      "?\n",
      "t\\\\his^ i\\[s\\] \\(a\\) \\{t\\}es|t. $or\\*ry\\?\n",
      "|\n",
      "t\\\\his^ i\\[s\\] \\(a\\) \\{t\\}es\\|t. $or\\*ry\\?\n",
      "^\n",
      "t\\\\his\\^ i\\[s\\] \\(a\\) \\{t\\}es\\|t. $or\\*ry\\?\n",
      "$\n",
      "t\\\\his\\^ i\\[s\\] \\(a\\) \\{t\\}es\\|t. \\$or\\*ry\\?\n",
      ".\n",
      "t\\\\his\\^ i\\[s\\] \\(a\\) \\{t\\}es\\|t\\. \\$or\\*ry\\?\n"
     ]
    }
   ],
   "source": [
    "for c in SPECIAL_CHARS:\n",
    "    print(c)\n",
    "    s=s.replace(c, \"\\\\\"+c)\n",
    "    print(s)"
   ]
  },
  {
   "cell_type": "code",
   "execution_count": 16,
   "metadata": {},
   "outputs": [
    {
     "name": "stdout",
     "output_type": "stream",
     "text": [
      "t\\\\his\\\\^ i\\\\[s\\\\] \\\\(a\\\\) \\\\{t\\\\}es\\\\|t\\\\. \\\\$or\\\\*ry\\\\?\n"
     ]
    }
   ],
   "source": [
    "print(s)"
   ]
  },
  {
   "cell_type": "code",
   "execution_count": 19,
   "metadata": {},
   "outputs": [
    {
     "data": {
      "text/plain": [
       "1"
      ]
     },
     "execution_count": 19,
     "metadata": {},
     "output_type": "execute_result"
    }
   ],
   "source": [
    "len(\"\\\\\")"
   ]
  },
  {
   "cell_type": "code",
   "execution_count": null,
   "metadata": {},
   "outputs": [],
   "source": [
    "instructions = \"\"\"\n",
    "move: move to %n:x%,%n:y% and turn %w:dir%\n",
    "plant: plant a %w:color% flower\n",
    "\"\"\""
   ]
  },
  {
   "cell_type": "code",
   "execution_count": 35,
   "metadata": {},
   "outputs": [],
   "source": [
    "class InstructionParser:\n",
    "    \"\"\"String parsing minilanguage for AoC instructions.\n",
    "    \n",
    "    Theoretically faster and more intutive than writing your\n",
    "    own regexes every time??\n",
    "    \n",
    "    The language consists of a newline-delimited set of strings like\n",
    "    \n",
    "    move: move to %x:i,%y:i and turn %direc:w\n",
    "    plant: plant %num:n %color:w flowers\n",
    "    \n",
    "    The first word ([a-z_]+) before the colon (and space!) is the name of the instruction,\n",
    "    and the % delimited sections are variable spots.\n",
    "    \n",
    "    A variable spot is denoted by %name:t% where name is [a-z_]+ and t is a type character.\n",
    "    \n",
    "    A string will be matched against each rule in sequence, returning the first\n",
    "    one it matches. If it doesn't match anything, an exception is thrown.\n",
    "    \n",
    "    When the parser is run on a string, it returns a (str, dict) tuple.\n",
    "    The string is the name if the instruction matched,\n",
    "    and the dict is a dictionary of variable names and their matched values.\n",
    "    \n",
    "    Type characters:\n",
    "    w: lowercase word [a-z]+ (returns string)\n",
    "    p: phrase of lowercase words [a-z ]+ (returns string)\n",
    "    n: nonnegative integer [0-9]+ (returns int)\n",
    "    i: integer -?[0-9]+ (returns int)\n",
    "    \n",
    "    For example, with the string example above,\n",
    "    \n",
    "    \"move to -13,34 and turn north\"\n",
    "    would get parsed to\n",
    "    (\"move\", {x:-13, y:34, direc:\"north\"})\n",
    "    \n",
    "    \"plant 4 green flowers\"\n",
    "    would get parsed to\n",
    "    (\"plant\", {num:4, color:\"green\"})\n",
    "    \n",
    "    Attributes:\n",
    "    \n",
    "    \n",
    "    Methods:\n",
    "    parse(str): Parse a single string into (instname, dict)\n",
    "    \"\"\"\n",
    "    \n",
    "    def __init__(self, code):\n",
    "        \"\"\"\n",
    "        code: the input source code.\n",
    "        \n",
    "        Will throw an error if not properly formatted.\n",
    "        \"\"\"\n",
    "        lines = code.strip().split(\"\\n\")\n",
    "        self.rules = []\n",
    "        for l in lines:\n",
    "            colon_sep=l.split(\": \")\n",
    "            if len(colon_sep)==1:\n",
    "                raise ValueError(f\"Incorrectly formatted rule {line}\")\n",
    "            name = colon_sep[0]\n",
    "            template = \": \".join(colon_sep[1:])\n",
    "            \n",
    "            #escape any special characters before we tinker\n",
    "            for c in SPECIAL_CHARS:\n",
    "                template=template.replace(c, \"\\\\\"+c)\n",
    "            tokens = re.split(r\"(%[a-z_]+:[wpni])\", template) #split out the variable decs\n",
    "            variables = []\n",
    "            pattern = [\"^\"]\n",
    "            \n",
    "            for t in tokens:\n",
    "                if not t:\n",
    "                    continue\n",
    "                elif t[0]!=\"%\":\n",
    "                    pattern.append(t)\n",
    "                else:\n",
    "                    print(t)\n",
    "                    name, mode =  re.fullmatch(r\"%([a-z_]+):([wpni])\", t).groups()\n",
    "                    if mode == \"p\": #phrase, with possible spaces\n",
    "                        pattern.append(r\"([a-z]+(?: [a-z]+)*)\")\n",
    "                    elif mode == \"w\": #word, no spaces\n",
    "                        pattern.append(r\"([a-z]+)\")\n",
    "                    elif mode == \"n\":\n",
    "                        pattern.append(r\"([0-9]+)\")\n",
    "                    elif mode == \"i\":\n",
    "                        pattern.append(r\"(-?[0-9]+)\")\n",
    "                    else:\n",
    "                        raise ValueError(f\"the mode {mode} is not supported\")\n",
    "                    variables.append((name, mode))\n",
    "            pattern.append(\"$\")\n",
    "            self.rules.append((name, variables, re.compile(\"\".join(pattern))))\n",
    "            \n",
    "        def match(self, string):\n",
    "            for name, variables, pattern in self.rules:\n",
    "                match = pattern.fullmatch(string)\n",
    "                if not match:\n",
    "                    continue\n",
    "                else:\n",
    "                    out = {}\n",
    "                    for ((var_name, mode), var_value) in zip(variables, match.groups()):\n",
    "                        if mode == \"p\" or mode == \"w\":\n",
    "                            out[var_name] = var_value\n",
    "                        elif mode == \"n\" or mode == \"i\":\n",
    "                            out[var_name] = int(var_value)\n",
    "                        else:\n",
    "                            raise ValueError(f\"the mode {mode} is not supported\")\n",
    "                    return out\n",
    "            raise ValueError(f\"The line {string} isn't matched by any pattern\")\n",
    "            \n",
    "                    \n",
    "                "
   ]
  },
  {
   "cell_type": "code",
   "execution_count": 36,
   "metadata": {},
   "outputs": [
    {
     "data": {
      "text/plain": [
       "'line: stuff'"
      ]
     },
     "execution_count": 36,
     "metadata": {},
     "output_type": "execute_result"
    }
   ],
   "source": [
    "\": \".join(\"name: line: stuff\".split(\": \")[1:])"
   ]
  },
  {
   "cell_type": "code",
   "execution_count": 37,
   "metadata": {},
   "outputs": [
    {
     "data": {
      "text/plain": [
       "['move to ', '%x:i', ',', '%y:i', ' and turn ', '%direc:w', '']"
      ]
     },
     "execution_count": 37,
     "metadata": {},
     "output_type": "execute_result"
    }
   ],
   "source": [
    "re.split(r\"(%[a-z_]+:[wpni])\", \"move to %x:i,%y:i and turn %direc:w\")"
   ]
  },
  {
   "cell_type": "code",
   "execution_count": 38,
   "metadata": {},
   "outputs": [
    {
     "name": "stdout",
     "output_type": "stream",
     "text": [
      "%x:i\n"
     ]
    },
    {
     "ename": "AttributeError",
     "evalue": "'NoneType' object has no attribute 'groups'",
     "output_type": "error",
     "traceback": [
      "\u001b[0;31m---------------------------------------------------------------------------\u001b[0m",
      "\u001b[0;31mAttributeError\u001b[0m                            Traceback (most recent call last)",
      "\u001b[0;32m<ipython-input-38-17b671c5911f>\u001b[0m in \u001b[0;36m<module>\u001b[0;34m\u001b[0m\n\u001b[1;32m      3\u001b[0m \u001b[0mplant\u001b[0m\u001b[0;34m:\u001b[0m \u001b[0mplant\u001b[0m \u001b[0;34m%\u001b[0m\u001b[0mnum\u001b[0m\u001b[0;34m:\u001b[0m\u001b[0mn\u001b[0m \u001b[0;34m%\u001b[0m\u001b[0mcolor\u001b[0m\u001b[0;34m:\u001b[0m\u001b[0mw\u001b[0m \u001b[0mflowers\u001b[0m\u001b[0;34m\u001b[0m\u001b[0;34m\u001b[0m\u001b[0m\n\u001b[1;32m      4\u001b[0m \"\"\"\n\u001b[0;32m----> 5\u001b[0;31m \u001b[0mP\u001b[0m\u001b[0;34m=\u001b[0m\u001b[0mInstructionParser\u001b[0m\u001b[0;34m(\u001b[0m\u001b[0mrules\u001b[0m\u001b[0;34m)\u001b[0m\u001b[0;34m\u001b[0m\u001b[0;34m\u001b[0m\u001b[0m\n\u001b[0m",
      "\u001b[0;32m<ipython-input-35-3cf5444ccf05>\u001b[0m in \u001b[0;36m__init__\u001b[0;34m(self, code)\u001b[0m\n\u001b[1;32m     74\u001b[0m                 \u001b[0;32melse\u001b[0m\u001b[0;34m:\u001b[0m\u001b[0;34m\u001b[0m\u001b[0;34m\u001b[0m\u001b[0m\n\u001b[1;32m     75\u001b[0m                     \u001b[0mprint\u001b[0m\u001b[0;34m(\u001b[0m\u001b[0mt\u001b[0m\u001b[0;34m)\u001b[0m\u001b[0;34m\u001b[0m\u001b[0;34m\u001b[0m\u001b[0m\n\u001b[0;32m---> 76\u001b[0;31m                     \u001b[0mname\u001b[0m\u001b[0;34m,\u001b[0m \u001b[0mmode\u001b[0m \u001b[0;34m=\u001b[0m  \u001b[0mre\u001b[0m\u001b[0;34m.\u001b[0m\u001b[0mfullmatch\u001b[0m\u001b[0;34m(\u001b[0m\u001b[0;34mr\"([a-z_]+):([wpni])\"\u001b[0m\u001b[0;34m,\u001b[0m \u001b[0mt\u001b[0m\u001b[0;34m)\u001b[0m\u001b[0;34m.\u001b[0m\u001b[0mgroups\u001b[0m\u001b[0;34m(\u001b[0m\u001b[0;34m)\u001b[0m\u001b[0;34m\u001b[0m\u001b[0;34m\u001b[0m\u001b[0m\n\u001b[0m\u001b[1;32m     77\u001b[0m                     \u001b[0;32mif\u001b[0m \u001b[0mmode\u001b[0m \u001b[0;34m==\u001b[0m \u001b[0;34m\"p\"\u001b[0m\u001b[0;34m:\u001b[0m \u001b[0;31m#phrase, with possible spaces\u001b[0m\u001b[0;34m\u001b[0m\u001b[0;34m\u001b[0m\u001b[0m\n\u001b[1;32m     78\u001b[0m                         \u001b[0mpattern\u001b[0m\u001b[0;34m.\u001b[0m\u001b[0mappend\u001b[0m\u001b[0;34m(\u001b[0m\u001b[0;34mr\"([a-z]+(?: [a-z]+)*)\"\u001b[0m\u001b[0;34m)\u001b[0m\u001b[0;34m\u001b[0m\u001b[0;34m\u001b[0m\u001b[0m\n",
      "\u001b[0;31mAttributeError\u001b[0m: 'NoneType' object has no attribute 'groups'"
     ]
    }
   ],
   "source": [
    "rules=\"\"\"\n",
    "move: move to %x:i,%y:i and turn %direc:w\n",
    "plant: plant %num:n %color:w flowers\n",
    "\"\"\"\n",
    "P=InstructionParser(rules)"
   ]
  },
  {
   "cell_type": "code",
   "execution_count": null,
   "metadata": {},
   "outputs": [],
   "source": []
  }
 ],
 "metadata": {
  "kernelspec": {
   "display_name": "Python 3",
   "language": "python",
   "name": "python3"
  },
  "language_info": {
   "codemirror_mode": {
    "name": "ipython",
    "version": 3
   },
   "file_extension": ".py",
   "mimetype": "text/x-python",
   "name": "python",
   "nbconvert_exporter": "python",
   "pygments_lexer": "ipython3",
   "version": "3.8.3"
  }
 },
 "nbformat": 4,
 "nbformat_minor": 4
}
